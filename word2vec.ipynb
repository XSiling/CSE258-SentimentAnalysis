{
 "cells": [
  {
   "cell_type": "code",
   "execution_count": 6,
   "metadata": {},
   "outputs": [],
   "source": [
    "from gensim.test.utils import datapath\n",
    "from gensim import utils\n",
    "from gensim import models\n",
    "import codecs\n",
    "import pandas as pd\n",
    "import numpy as np\n",
    "from preprocess import preprocess\n",
    "from tqdm import tqdm"
   ]
  },
  {
   "cell_type": "code",
   "execution_count": 8,
   "metadata": {},
   "outputs": [
    {
     "name": "stderr",
     "output_type": "stream",
     "text": [
      "reading information from data: 1600000it [00:19, 83400.68it/s]\n"
     ]
    },
    {
     "name": "stdout",
     "output_type": "stream",
     "text": [
      "step1: remove abnormal signs and segmentation\n",
      "step2: remove stop words...\n",
      "step3: lemmatization...\n",
      "step4: final cleaning\n"
     ]
    }
   ],
   "source": [
    "with codecs.open('../training.1600000.processed.noemoticon.csv','r',encoding='latin-1') as fp:\n",
    "    data = pd.read_csv(fp, header=None)\n",
    "corpus = []\n",
    "for index, row in tqdm(data.iterrows(), desc='reading information from data'):\n",
    "    tweet = row[5]\n",
    "    corpus.append(tweet)\n",
    "\n",
    "corpus = preprocess(corpus)"
   ]
  },
  {
   "cell_type": "code",
   "execution_count": 16,
   "metadata": {},
   "outputs": [],
   "source": [
    "model = models.Word2Vec(sentences=corpus, min_count=100, vector_size=300)"
   ]
  },
  {
   "cell_type": "code",
   "execution_count": 17,
   "metadata": {},
   "outputs": [],
   "source": [
    "model.save(\"word2vec.model\")"
   ]
  },
  {
   "cell_type": "code",
   "execution_count": null,
   "metadata": {},
   "outputs": [],
   "source": []
  }
 ],
 "metadata": {
  "kernelspec": {
   "display_name": "Python 3",
   "language": "python",
   "name": "python3"
  },
  "language_info": {
   "codemirror_mode": {
    "name": "ipython",
    "version": 3
   },
   "file_extension": ".py",
   "mimetype": "text/x-python",
   "name": "python",
   "nbconvert_exporter": "python",
   "pygments_lexer": "ipython3",
   "version": "3.11.4"
  },
  "orig_nbformat": 4
 },
 "nbformat": 4,
 "nbformat_minor": 2
}
